{
 "cells": [
  {
   "cell_type": "markdown",
   "id": "5272d2f3-74c7-43c5-b7ca-0bac3a7a4cc9",
   "metadata": {},
   "source": [
    "# Assignment_3 Questions :- "
   ]
  },
  {
   "cell_type": "markdown",
   "id": "902eb4bc-7407-4aa4-9d2b-ed9ceb5b1e38",
   "metadata": {},
   "source": [
    "1.\tWrite a Python Program to Check if a Number is Positive, Negative or Zero?\n",
    "2.\tWrite a Python Program to Check if a Number is Odd or Even?\n",
    "3.\tWrite a Python Program to Check Leap Year?\n",
    "4.\tWrite a Python Program to Check Prime Number?\n",
    "5.\tWrite a Python Program to Print all Prime Numbers in an Interval of 1-1000?"
   ]
  },
  {
   "cell_type": "markdown",
   "id": "a62f8773-be32-451e-a95a-11fba7bbf347",
   "metadata": {},
   "source": [
    "# 1.\tWrite a Python Program to Check if a Number is Positive, Negative or Zero?"
   ]
  },
  {
   "cell_type": "code",
   "execution_count": 28,
   "id": "7e25ce7e-1dd2-4a01-85d3-cbcbb8feb30a",
   "metadata": {},
   "outputs": [
    {
     "name": "stdin",
     "output_type": "stream",
     "text": [
      "Enter the number :  78\n"
     ]
    },
    {
     "data": {
      "text/plain": [
       "'Positive Number'"
      ]
     },
     "execution_count": 28,
     "metadata": {},
     "output_type": "execute_result"
    }
   ],
   "source": [
    "def Check_postive_negative():\n",
    "    try:\n",
    "        num = float(input(\"Enter the number : \"))\n",
    "        if num > 0:\n",
    "            return \"Positive Number\"\n",
    "        if num < 0:\n",
    "            return \"Negative Number\"\n",
    "        if num == 0:\n",
    "            return \"It's Zero\"\n",
    "    except ValueError:\n",
    "        return \"Only Numbers are Allowed\"\n",
    "\n",
    "Check_postive_negative()"
   ]
  },
  {
   "cell_type": "markdown",
   "id": "8d7d32bc-0300-4e08-8e08-ce8bfda3f22f",
   "metadata": {},
   "source": [
    "# 2.\tWrite a Python Program to Check if a Number is Odd or Even? "
   ]
  },
  {
   "cell_type": "code",
   "execution_count": 30,
   "id": "d7a52b60-d51b-45d8-9b4f-4b5840dab6df",
   "metadata": {},
   "outputs": [
    {
     "name": "stdin",
     "output_type": "stream",
     "text": [
      "Enter the number :  88\n"
     ]
    },
    {
     "data": {
      "text/plain": [
       "'Even'"
      ]
     },
     "execution_count": 30,
     "metadata": {},
     "output_type": "execute_result"
    }
   ],
   "source": [
    "def Check_Even_Odd():\n",
    "    try:\n",
    "        number = float(input(\"Enter the number : \")) \n",
    "        if number == 0:\n",
    "            return \"Neither Positive nor Negative\"\n",
    "        if number % 2 == 0:\n",
    "            return \"Even\"\n",
    "        if number % 2 != 0:\n",
    "            return \"Odd\"\n",
    "        \n",
    "    except ValueError:\n",
    "        return \"Only Numbers are Allowed\"\n",
    "\n",
    "Check_Even_Odd()"
   ]
  },
  {
   "cell_type": "markdown",
   "id": "f904a229-b976-4fcf-abaf-40337b1fad78",
   "metadata": {},
   "source": [
    "# 3.\tWrite a Python Program to Check Leap Year?"
   ]
  },
  {
   "cell_type": "code",
   "execution_count": 27,
   "id": "0f008f32-7583-4577-8415-73623318c716",
   "metadata": {},
   "outputs": [
    {
     "name": "stdin",
     "output_type": "stream",
     "text": [
      "Enter the Year :  2024\n"
     ]
    },
    {
     "data": {
      "text/plain": [
       "'Leap Year'"
      ]
     },
     "execution_count": 27,
     "metadata": {},
     "output_type": "execute_result"
    }
   ],
   "source": [
    "def Check_leap_year():\n",
    "    try:\n",
    "        year = int(input(\"Enter the Year : \"))\n",
    "        if (year % 4 == 0 and year % 100 != 0) or (year % 400 == 0):\n",
    "            return \"Leap Year\"\n",
    "        else:\n",
    "            return \"Non-Leap Year\"\n",
    "    except ValueError:\n",
    "        return \"Only Numbers are Allowed\"\n",
    "\n",
    "Check_leap_year()"
   ]
  },
  {
   "cell_type": "markdown",
   "id": "876a9ba1-6e40-4c6a-9c4b-1469e48e94e4",
   "metadata": {},
   "source": [
    "# 4.\tWrite a Python Program to Check Prime Number?"
   ]
  },
  {
   "cell_type": "code",
   "execution_count": 12,
   "id": "759afde5-0708-4c48-bc4d-0635d9368e61",
   "metadata": {},
   "outputs": [
    {
     "name": "stdin",
     "output_type": "stream",
     "text": [
      "Enter the number :  97\n"
     ]
    },
    {
     "data": {
      "text/plain": [
       "'Prime'"
      ]
     },
     "execution_count": 12,
     "metadata": {},
     "output_type": "execute_result"
    }
   ],
   "source": [
    "def Check_prime_number():\n",
    "    try:\n",
    "        num = int(input(\"Enter the number : \"))\n",
    "        if num < 0:\n",
    "            return \"Not a Prime Number\"\n",
    "        for i in range(2,int(num**0.5) + 1):\n",
    "            if num % i == 0:\n",
    "                return \"Not a Prime Number\"\n",
    "                \n",
    "        return \"Prime\"\n",
    "    except ValueError:\n",
    "        return \"Only Numbers are Allowed\"\n",
    "\n",
    "Check_prime_number()"
   ]
  },
  {
   "cell_type": "markdown",
   "id": "d0818bca-98d2-4a62-ad3c-71b40d564225",
   "metadata": {},
   "source": [
    "# 5.\tWrite a Python Program to Print all Prime Numbers in an Interval of 1-1000?"
   ]
  },
  {
   "cell_type": "code",
   "execution_count": 10,
   "id": "1075f9a6-32a1-4b7a-8695-698b7f76bc74",
   "metadata": {},
   "outputs": [
    {
     "name": "stdout",
     "output_type": "stream",
     "text": [
      "Prime numbers between 1 and 1000 are:\n",
      "[2, 3, 5, 7, 11, 13, 17, 19, 23, 29, 31, 37, 41, 43, 47, 53, 59, 61, 67, 71, 73, 79, 83, 89, 97, 101, 103, 107, 109, 113, 127, 131, 137, 139, 149, 151, 157, 163, 167, 173, 179, 181, 191, 193, 197, 199, 211, 223, 227, 229, 233, 239, 241, 251, 257, 263, 269, 271, 277, 281, 283, 293, 307, 311, 313, 317, 331, 337, 347, 349, 353, 359, 367, 373, 379, 383, 389, 397, 401, 409, 419, 421, 431, 433, 439, 443, 449, 457, 461, 463, 467, 479, 487, 491, 499, 503, 509, 521, 523, 541, 547, 557, 563, 569, 571, 577, 587, 593, 599, 601, 607, 613, 617, 619, 631, 641, 643, 647, 653, 659, 661, 673, 677, 683, 691, 701, 709, 719, 727, 733, 739, 743, 751, 757, 761, 769, 773, 787, 797, 809, 811, 821, 823, 827, 829, 839, 853, 857, 859, 863, 877, 881, 883, 887, 907, 911, 919, 929, 937, 941, 947, 953, 967, 971, 977, 983, 991, 997]\n",
      "Sum of Prime Numbers :  76127\n"
     ]
    }
   ],
   "source": [
    "def list_prime(num):\n",
    "    if num <= 1:\n",
    "        return False\n",
    "    for i in range(2, int(num**0.5) + 1):\n",
    "        if num % i == 0:\n",
    "            return False\n",
    "    return True\n",
    "prime_number = []\n",
    "for num in range(1,1001):\n",
    "    if list_prime(num):\n",
    "        prime_number.append(num)\n",
    "\n",
    "list_prime(num)\n",
    "print(\"Prime numbers between 1 and 1000 are:\")\n",
    "print(prime_number)\n",
    "print(\"Sum of Prime Numbers : \", sum(prime_number))"
   ]
  },
  {
   "cell_type": "code",
   "execution_count": null,
   "id": "ba1f2d36-718a-4c06-b496-a8422c74c548",
   "metadata": {},
   "outputs": [],
   "source": []
  }
 ],
 "metadata": {
  "kernelspec": {
   "display_name": "Python 3 (ipykernel)",
   "language": "python",
   "name": "python3"
  },
  "language_info": {
   "codemirror_mode": {
    "name": "ipython",
    "version": 3
   },
   "file_extension": ".py",
   "mimetype": "text/x-python",
   "name": "python",
   "nbconvert_exporter": "python",
   "pygments_lexer": "ipython3",
   "version": "3.12.7"
  }
 },
 "nbformat": 4,
 "nbformat_minor": 5
}
