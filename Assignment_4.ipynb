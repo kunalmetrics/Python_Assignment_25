{
 "cells": [
  {
   "cell_type": "markdown",
   "id": "332ba8a2-7334-4948-8479-e933ddba591e",
   "metadata": {},
   "source": [
    "# Assignment_4 Questions :-"
   ]
  },
  {
   "cell_type": "markdown",
   "id": "4cd6f628-e55f-4f58-998e-9f7af9081d42",
   "metadata": {},
   "source": [
    "1.\tWrite a Python Program to Find the Factorial of a Number?\n",
    "2.\tWrite a Python Program to Display the multiplication Table?\n",
    "3.\tWrite a Python Program to Print the Fibonacci sequence?\n",
    "4.\tWrite a Python Program to Check Armstrong Number?\n",
    "5.\tWrite a Python Program to Find Armstrong Number in an Interval?\n",
    "6.\tWrite a Python Program to Find the Sum of Natural Numbers?"
   ]
  },
  {
   "cell_type": "markdown",
   "id": "c5e174d2-2386-4bf1-8c2c-970380143260",
   "metadata": {},
   "source": [
    "# 1.\tWrite a Python Program to Find the Factorial of a Number?"
   ]
  },
  {
   "cell_type": "code",
   "execution_count": 2,
   "id": "e1142598-a15d-4f0b-a396-cbd356fbd263",
   "metadata": {},
   "outputs": [
    {
     "name": "stdin",
     "output_type": "stream",
     "text": [
      "Enter the number:  5\n"
     ]
    },
    {
     "name": "stdout",
     "output_type": "stream",
     "text": [
      "The Factorial is 120\n"
     ]
    }
   ],
   "source": [
    "def find_factorial():\n",
    "    try:\n",
    "        num = int(input(\"Enter the number: \"))\n",
    "        factorial = 1\n",
    "        for i in range(1, num + 1):\n",
    "            factorial *= i\n",
    "        return factorial\n",
    "    except ValueError:\n",
    "        return \"Invalid Input, Please enter numerical value \"\n",
    "\n",
    "result = find_factorial()\n",
    "print(\"The Factorial is\", result)\n"
   ]
  },
  {
   "cell_type": "markdown",
   "id": "f8ca8e76-2327-48e4-b27d-47eb3772ccbf",
   "metadata": {},
   "source": [
    "# 2.\tWrite a Python Program to Display the multiplication Table?"
   ]
  },
  {
   "cell_type": "code",
   "execution_count": 47,
   "id": "5b852547-c3a4-49fd-986d-e56dc1a11553",
   "metadata": {},
   "outputs": [
    {
     "name": "stdin",
     "output_type": "stream",
     "text": [
      "Enter the number:  9\n"
     ]
    },
    {
     "name": "stdout",
     "output_type": "stream",
     "text": [
      "9 X 1 = 9\n",
      "9 X 2 = 18\n",
      "9 X 3 = 27\n",
      "9 X 4 = 36\n",
      "9 X 5 = 45\n",
      "9 X 6 = 54\n",
      "9 X 7 = 63\n",
      "9 X 8 = 72\n",
      "9 X 9 = 81\n",
      "9 X 10 = 90\n"
     ]
    }
   ],
   "source": [
    "def table():\n",
    "    try:\n",
    "        num = int(input(\"Enter the number: \"))\n",
    "        if num <= 0:\n",
    "            return \"It cannot be zero or negative. Please enter a valid number.\"\n",
    "        \n",
    "        result_list = []\n",
    "        for i in range(1, 11):\n",
    "            result_list.append(f\"{num} X {i} = {num * i}\")\n",
    "        \n",
    "        return result_list\n",
    "    except ValueError:\n",
    "        return \"Invalid Input, Please enter a numerical value.\"\n",
    "\n",
    "result = table()\n",
    "if isinstance(result, list):\n",
    "    for line in result:\n",
    "        print(line)\n",
    "else:\n",
    "    print(result)\n"
   ]
  },
  {
   "cell_type": "markdown",
   "id": "7328bb85-cafe-4596-b251-464ea0494e93",
   "metadata": {},
   "source": [
    "# 3.\tWrite a Python Program to Print the Fibonacci sequence?"
   ]
  },
  {
   "cell_type": "code",
   "execution_count": 34,
   "id": "79e2c29f-99aa-4b1c-bc15-0b1d8288eeee",
   "metadata": {},
   "outputs": [
    {
     "name": "stdin",
     "output_type": "stream",
     "text": [
      "Enter the number of terms:  20\n"
     ]
    },
    {
     "name": "stdout",
     "output_type": "stream",
     "text": [
      "Fibonacci Sequence: [0, 1, 1, 2, 3, 5, 8, 13, 21, 34, 55, 89, 144, 233, 377, 610, 987, 1597, 2584, 4181]\n"
     ]
    }
   ],
   "source": [
    "def fibonacci():\n",
    "    try:\n",
    "        num = int(input(\"Enter the number of terms: \"))\n",
    "        if num <= 0:\n",
    "            return \"Please enter a positive integer.\"\n",
    "        \n",
    "        a, b = 0, 1\n",
    "        fibonacci_sequence = [a, b]\n",
    "        \n",
    "        for _ in range(2, num):\n",
    "            c = a + b\n",
    "            fibonacci_sequence.append(c)\n",
    "            a, b = b, c\n",
    "            \n",
    "        return fibonacci_sequence\n",
    "    except ValueError:\n",
    "        return \"Invalid Input, Please enter a numerical value.\"\n",
    "\n",
    "result = fibonacci()\n",
    "if isinstance(result, list):\n",
    "    print(\"Fibonacci Sequence:\", result)\n",
    "else:\n",
    "    print(result)\n"
   ]
  },
  {
   "cell_type": "markdown",
   "id": "095e590c-b2e0-4a6a-97a3-12f16dc51149",
   "metadata": {},
   "source": [
    "# 4.\tWrite a Python Program to Check Armstrong Number?"
   ]
  },
  {
   "cell_type": "code",
   "execution_count": 48,
   "id": "f44f1485-26e4-4704-8a00-ee677da08474",
   "metadata": {},
   "outputs": [
    {
     "name": "stdin",
     "output_type": "stream",
     "text": [
      "Enter the number :  407\n"
     ]
    },
    {
     "name": "stdout",
     "output_type": "stream",
     "text": [
      "407 is an armstrong number\n"
     ]
    }
   ],
   "source": [
    "def check_armstrong():\n",
    "    try:\n",
    "        num = int(input(\"Enter the number : \"))\n",
    "        sum_of_powers = 0\n",
    "        order = len(str(num))\n",
    "        copy_num = num\n",
    "        while (num>0):\n",
    "            digit = num%10\n",
    "            sum_of_powers += digit ** order\n",
    "            num = num//10\n",
    "        \n",
    "        if (sum_of_powers == copy_num):\n",
    "            print(f\"{copy_num} is an armstrong number\")\n",
    "        else:\n",
    "            print(f\"{copy_num} is not an armstrong number\")\n",
    "    except ValueError:\n",
    "        print(\"Invalid Input, Please enter numerical value\")\n",
    "\n",
    "check_armstrong()\n"
   ]
  },
  {
   "cell_type": "markdown",
   "id": "e9780b6b-ae88-405b-a100-b3ed34ceff8d",
   "metadata": {},
   "source": [
    "# 5.\tWrite a Python Program to Find Armstrong Number in an Interval?"
   ]
  },
  {
   "cell_type": "code",
   "execution_count": 38,
   "id": "b855a6ed-8f1c-42dd-8cd7-fd19825f2902",
   "metadata": {},
   "outputs": [
    {
     "name": "stdin",
     "output_type": "stream",
     "text": [
      "Enter the lower limit here :  100\n",
      "Enter the upper limit here :  1000\n"
     ]
    },
    {
     "name": "stdout",
     "output_type": "stream",
     "text": [
      "Armstrong Numbers in the Interval :  [153, 370, 371, 407]\n"
     ]
    }
   ],
   "source": [
    "def armstrong_in_interval():\n",
    "    try:\n",
    "        lower_limit = int(input(\"Enter the lower limit here : \"))\n",
    "        upper_limit = int(input(\"Enter the upper limit here : \"))\n",
    "        \n",
    "        armstrong_numbers = []  # List to store Armstrong numbers\n",
    "\n",
    "        for number in range(lower_limit, upper_limit + 1):\n",
    "            num_digits = len(str(number))\n",
    "            sum_of_powers = 0\n",
    "            temp_number = number\n",
    "            while temp_number > 0:\n",
    "                digit = temp_number % 10\n",
    "                sum_of_powers += digit ** num_digits\n",
    "                temp_number //= 10\n",
    "            if number == sum_of_powers:\n",
    "                armstrong_numbers.append(number)\n",
    "        \n",
    "        return armstrong_numbers\n",
    "    except ValueError:\n",
    "        return \"Invalid Input, Please enter numerical value.\"\n",
    "\n",
    "result = armstrong_in_interval()\n",
    "if isinstance(result, list):\n",
    "    print(\"Armstrong Numbers in the Interval : \", result)\n",
    "else:\n",
    "    print(result)\n"
   ]
  },
  {
   "cell_type": "markdown",
   "id": "f74386be-0ddd-44fe-ab98-6d94891aed95",
   "metadata": {},
   "source": [
    "# 6.\tWrite a Python Program to Find the Sum of Natural Numbers?"
   ]
  },
  {
   "cell_type": "code",
   "execution_count": 24,
   "id": "5fa098c6-cf75-4ae8-813e-6bcc00a83e61",
   "metadata": {},
   "outputs": [
    {
     "name": "stdin",
     "output_type": "stream",
     "text": [
      "Enter the number :  100\n"
     ]
    },
    {
     "name": "stdout",
     "output_type": "stream",
     "text": [
      "5050\n"
     ]
    }
   ],
   "source": [
    "def sum_of_natural_number():\n",
    "    try:\n",
    "        number = int(input(\"Enter the number : \"))\n",
    "        if number < 0:\n",
    "            return \"Invalid Input, Please enter a positive number\"\n",
    "        else:\n",
    "            sum_of_numbers = 0\n",
    "            while number > 0:\n",
    "                sum_of_numbers += number\n",
    "                number -= 1\n",
    "            return sum_of_numbers\n",
    "    except ValueError:\n",
    "        return \"Invalid Input, Please enter a numerical value\"\n",
    "\n",
    "result = sum_of_natural_number()\n",
    "print(result)\n"
   ]
  }
 ],
 "metadata": {
  "kernelspec": {
   "display_name": "Python 3 (ipykernel)",
   "language": "python",
   "name": "python3"
  },
  "language_info": {
   "codemirror_mode": {
    "name": "ipython",
    "version": 3
   },
   "file_extension": ".py",
   "mimetype": "text/x-python",
   "name": "python",
   "nbconvert_exporter": "python",
   "pygments_lexer": "ipython3",
   "version": "3.12.7"
  }
 },
 "nbformat": 4,
 "nbformat_minor": 5
}
