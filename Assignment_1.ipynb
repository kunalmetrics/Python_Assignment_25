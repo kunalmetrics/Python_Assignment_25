{
 "cells": [
  {
   "cell_type": "markdown",
   "id": "ebd5453a-6fdb-4b18-91cf-83ece6e6c9fd",
   "metadata": {},
   "source": [
    "# Assignment_1 Questions :-"
   ]
  },
  {
   "cell_type": "markdown",
   "id": "21f3677a-4b73-4e5b-934c-0b9caf3f6ec0",
   "metadata": {},
   "source": [
    "1.\tWrite a Python program to print \"Hello Python\"?\n",
    "2.\tWrite a Python program to do arithmetical operations addition and division.?\n",
    "3.\tWrite a Python program to find the area of a triangle?\n",
    "4.\tWrite a Python program to swap two variables?\n",
    "5.\tWrite a Python program to generate a random number?"
   ]
  },
  {
   "cell_type": "markdown",
   "id": "4dbc6c07-0f77-45d1-9e2f-cdf6751b4acc",
   "metadata": {},
   "source": [
    "# 1.\tWrite a Python program to print \"Hello Python\"?"
   ]
  },
  {
   "cell_type": "code",
   "execution_count": 1,
   "id": "df44fb67-e6fd-4ea6-b8ab-39078bf2a5d8",
   "metadata": {},
   "outputs": [
    {
     "name": "stdout",
     "output_type": "stream",
     "text": [
      "Hello Python\n"
     ]
    }
   ],
   "source": [
    "welcome = (\"Hello Python\")\n",
    "print(welcome)"
   ]
  },
  {
   "cell_type": "markdown",
   "id": "cd94518d-9273-4a4e-a150-9044d543f2da",
   "metadata": {},
   "source": [
    "# 2.\tWrite a Python program to do arithmetical operations addition and division.?"
   ]
  },
  {
   "cell_type": "raw",
   "id": "01424823-3b4a-48d8-bdac-b56b5277f3a1",
   "metadata": {},
   "source": [
    "# Addition"
   ]
  },
  {
   "cell_type": "code",
   "execution_count": 2,
   "id": "36f4214c-5b04-4ab7-8531-a4c3037b976f",
   "metadata": {},
   "outputs": [
    {
     "name": "stdin",
     "output_type": "stream",
     "text": [
      "Enter the first number 45\n",
      "Enter the second number 34\n"
     ]
    },
    {
     "name": "stdout",
     "output_type": "stream",
     "text": [
      "79.0\n"
     ]
    }
   ],
   "source": [
    "First_number = float(input(\"Enter the first number\"))\n",
    "Second_number = float(input(\"Enter the second number\"))\n",
    "\n",
    "Addition = First_number + Second_number\n",
    "print(Addition)"
   ]
  },
  {
   "cell_type": "raw",
   "id": "532d6b28-8fba-4dd2-ad0a-1b2b3e028612",
   "metadata": {},
   "source": [
    "# Division "
   ]
  },
  {
   "cell_type": "code",
   "execution_count": 4,
   "id": "d7d87d5f-bd75-4f91-8f2a-5f9afb3d9ebf",
   "metadata": {},
   "outputs": [
    {
     "name": "stdin",
     "output_type": "stream",
     "text": [
      "Enter the first number 40\n",
      "Enter the second number 10\n"
     ]
    },
    {
     "name": "stdout",
     "output_type": "stream",
     "text": [
      "4.0\n"
     ]
    }
   ],
   "source": [
    "First_number = float(input(\"Enter the first number\"))\n",
    "Second_number = float(input(\"Enter the second number\"))\n",
    "\n",
    "Division = First_number / Second_number\n",
    "print(Division)"
   ]
  },
  {
   "cell_type": "markdown",
   "id": "3867d6b6-07bc-408f-95ca-242469949f54",
   "metadata": {},
   "source": [
    "# 3.\tWrite a Python program to find the area of a triangle?"
   ]
  },
  {
   "cell_type": "code",
   "execution_count": 13,
   "id": "3a65d1c3-3319-4090-b379-cbc14def2e57",
   "metadata": {},
   "outputs": [
    {
     "name": "stdin",
     "output_type": "stream",
     "text": [
      "Enter the base of a triangle 30\n",
      "Enter the height of a triangle 10\n"
     ]
    },
    {
     "name": "stdout",
     "output_type": "stream",
     "text": [
      "The area of a triangel is : 150.0\n"
     ]
    }
   ],
   "source": [
    "base = float(input(\"Enter the base of a triangle\"))\n",
    "height = float(input(\"Enter the height of a triangle\"))\n",
    "\n",
    "area = 1/2 * base * height\n",
    "print(f\"The area of a triangel is : {area}\")"
   ]
  },
  {
   "cell_type": "markdown",
   "id": "6af4ec5d-4e56-4977-8586-2cad18bcfbda",
   "metadata": {},
   "source": [
    "# 4.\tWrite a Python program to swap two variables?"
   ]
  },
  {
   "cell_type": "code",
   "execution_count": 6,
   "id": "d13c569a-221a-4acf-b706-bef36321feb2",
   "metadata": {},
   "outputs": [
    {
     "name": "stdout",
     "output_type": "stream",
     "text": [
      "Here is Kunal Marks : 77\n",
      "Here is Sachin Marks : 44\n"
     ]
    }
   ],
   "source": [
    "kunal_marks = 44\n",
    "sachin_marks = 77\n",
    "\n",
    "kunal_marks,sachin_marks = sachin_marks,kunal_marks\n",
    "\n",
    "print(f\"Here is Kunal Marks : {kunal_marks}\")\n",
    "print(f\"Here is Sachin Marks : {sachin_marks}\")"
   ]
  },
  {
   "cell_type": "markdown",
   "id": "8a4bfa5d-327d-48d2-934b-7013b1d0ed89",
   "metadata": {},
   "source": [
    "# 5.\tWrite a Python program to generate a random number?"
   ]
  },
  {
   "cell_type": "code",
   "execution_count": 4,
   "id": "2719db79-9ac9-4143-8317-ed05e7714223",
   "metadata": {},
   "outputs": [
    {
     "name": "stdout",
     "output_type": "stream",
     "text": [
      "The Random number is : 85\n"
     ]
    }
   ],
   "source": [
    "import random \n",
    "random_number = random.randint(1,100)\n",
    "\n",
    "print(f\"The Random number is : {random_number}\")\n"
   ]
  }
 ],
 "metadata": {
  "kernelspec": {
   "display_name": "Python 3 (ipykernel)",
   "language": "python",
   "name": "python3"
  },
  "language_info": {
   "codemirror_mode": {
    "name": "ipython",
    "version": 3
   },
   "file_extension": ".py",
   "mimetype": "text/x-python",
   "name": "python",
   "nbconvert_exporter": "python",
   "pygments_lexer": "ipython3",
   "version": "3.12.7"
  }
 },
 "nbformat": 4,
 "nbformat_minor": 5
}
