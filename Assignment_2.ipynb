{
 "cells": [
  {
   "cell_type": "markdown",
   "id": "a8bc14a9-2727-4fe5-8abd-92f0abeecefd",
   "metadata": {},
   "source": [
    "# Assignment_2 Questions :-"
   ]
  },
  {
   "cell_type": "markdown",
   "id": "e571f565-048d-49b7-a20b-d4f02e06bbad",
   "metadata": {},
   "source": [
    "1.\tWrite a Python program to convert kilometers to miles?\n",
    "2.\tWrite a Python program to convert Celsius to Fahrenheit?\n",
    "3.\tWrite a Python program to display calendar?\n",
    "4.\tWrite a Python program to solve quadratic equation?\n",
    "5.\tWrite a Python program to swap two variables without temp variable?"
   ]
  },
  {
   "cell_type": "markdown",
   "id": "d83d18ce-de8b-42aa-bc75-75e129749c27",
   "metadata": {},
   "source": [
    "# 1.\tWrite a Python program to convert kilometers to miles?"
   ]
  },
  {
   "cell_type": "code",
   "execution_count": 15,
   "id": "36e01e00-a2b5-4c00-a54d-d54bddcec346",
   "metadata": {},
   "outputs": [
    {
     "name": "stdin",
     "output_type": "stream",
     "text": [
      "Enter the kilometers : 1\n"
     ]
    },
    {
     "name": "stdout",
     "output_type": "stream",
     "text": [
      "Miles = 0.62137\n"
     ]
    }
   ],
   "source": [
    "kilomiters = float(input(\"Enter the kilometers :\"))\n",
    "miles = 0.62137\n",
    "mi = kilomiters * 0.62137 \n",
    "\n",
    "print(f\"Miles = {mi}\")"
   ]
  },
  {
   "cell_type": "markdown",
   "id": "0c86907f-7aa7-4d95-91fa-79a05c7527f0",
   "metadata": {},
   "source": [
    "# 2.\tWrite a Python program to convert Celsius to Fahrenheit?"
   ]
  },
  {
   "cell_type": "code",
   "execution_count": 17,
   "id": "af2d4d5d-8e80-41fe-9152-1baddd1c5e97",
   "metadata": {},
   "outputs": [
    {
     "name": "stdin",
     "output_type": "stream",
     "text": [
      "Enter the Celsius : 1\n"
     ]
    },
    {
     "name": "stdout",
     "output_type": "stream",
     "text": [
      "fahrenheit = 33.8\n"
     ]
    }
   ],
   "source": [
    "celsius = float(input(\"Enter the Celsius :\"))\n",
    "faherenheit = (9/5) + 32\n",
    "fahe = celsius * (9/5) + 32\n",
    "\n",
    "print(f\"fahrenheit = {fahe}\")"
   ]
  },
  {
   "cell_type": "markdown",
   "id": "d6cd7ba3-ee6a-48b5-99ee-c23a0f734031",
   "metadata": {},
   "source": [
    "# 3.\tWrite a Python program to display calendar?"
   ]
  },
  {
   "cell_type": "code",
   "execution_count": 5,
   "id": "fa051bc7-a0d4-45f7-8f41-04e709f079b7",
   "metadata": {},
   "outputs": [
    {
     "name": "stdout",
     "output_type": "stream",
     "text": [
      "   December 2024\n",
      "Mo Tu We Th Fr Sa Su\n",
      "                   1\n",
      " 2  3  4  5  6  7  8\n",
      " 9 10 11 12 13 14 15\n",
      "16 17 18 19 20 21 22\n",
      "23 24 25 26 27 28 29\n",
      "30 31\n",
      "\n"
     ]
    }
   ],
   "source": [
    "import calendar \n",
    "\n",
    "calendar_month = calendar.month(2024,12)\n",
    "print(calendar_month)"
   ]
  },
  {
   "cell_type": "markdown",
   "id": "19fd4aa8-4b21-42a2-bbad-73e79ebb8b76",
   "metadata": {},
   "source": [
    "# 4.\tWrite a Python program to solve quadratic equation?"
   ]
  },
  {
   "cell_type": "code",
   "execution_count": 12,
   "id": "a63d6f47-4358-496c-80b7-834b98fc8ea7",
   "metadata": {},
   "outputs": [
    {
     "name": "stdin",
     "output_type": "stream",
     "text": [
      "Enter the number (a!=0) 2\n",
      "Enter the number 3\n",
      "Enter the number 2\n"
     ]
    },
    {
     "name": "stdout",
     "output_type": "stream",
     "text": [
      "the roots are : (-0.75-0.6614378277661477j) and (-0.75+0.6614378277661477j)\n"
     ]
    }
   ],
   "source": [
    "# formula :- ax2+bx+c=0\n",
    "# a, b and c is real number \n",
    "# a!=0\n",
    "import cmath\n",
    "\n",
    "a = float(input(\"Enter the number (a!=0)\"))\n",
    "b = float(input(\"Enter the number\"))\n",
    "c = float(input(\"Enter the number\"))\n",
    "\n",
    "# Formula for discriminat\n",
    "d = (b**2) - (4*a*c)\n",
    "\n",
    "root1 = (-b-cmath.sqrt(d))/(2*a)\n",
    "root2 = (-b+cmath.sqrt(d))/(2*a)\n",
    "\n",
    "print(f\"the roots are : {root1} and {root2}\")"
   ]
  },
  {
   "cell_type": "markdown",
   "id": "aa1f6b8b-30f4-41df-8b95-620d714b041b",
   "metadata": {},
   "source": [
    "# 5.\tWrite a Python program to swap two variables without temp variable?"
   ]
  },
  {
   "cell_type": "code",
   "execution_count": 1,
   "id": "ee8e1f4c-8588-49ef-b244-3e6dfede1f19",
   "metadata": {},
   "outputs": [
    {
     "name": "stdout",
     "output_type": "stream",
     "text": [
      "Here is Kunal Marks : 77\n",
      "Here is Sachin Marks : 44\n"
     ]
    }
   ],
   "source": [
    "kunal_marks = 44\n",
    "sachin_marks = 77\n",
    "\n",
    "kunal_marks,sachin_marks = sachin_marks,kunal_marks\n",
    "\n",
    "print(f\"Here is Kunal Marks : {kunal_marks}\")\n",
    "print(f\"Here is Sachin Marks : {sachin_marks}\")"
   ]
  }
 ],
 "metadata": {
  "kernelspec": {
   "display_name": "Python 3 (ipykernel)",
   "language": "python",
   "name": "python3"
  },
  "language_info": {
   "codemirror_mode": {
    "name": "ipython",
    "version": 3
   },
   "file_extension": ".py",
   "mimetype": "text/x-python",
   "name": "python",
   "nbconvert_exporter": "python",
   "pygments_lexer": "ipython3",
   "version": "3.12.7"
  }
 },
 "nbformat": 4,
 "nbformat_minor": 5
}
