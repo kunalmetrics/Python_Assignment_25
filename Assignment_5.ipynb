{
 "cells": [
  {
   "cell_type": "markdown",
   "id": "be3c5f2f-6907-4b53-8365-3cde798ff159",
   "metadata": {},
   "source": [
    "# Assignment_5 Questions :-"
   ]
  },
  {
   "cell_type": "markdown",
   "id": "94a5b12f-5fb0-407a-a9af-3334d72ef653",
   "metadata": {},
   "source": [
    "1.\tWrite a Python Program to Find LCM?\n",
    "2.\tWrite a Python Program to Find HCF?\n",
    "3.\tWrite a Python Program to Convert Decimal to Binary, Octal and Hexadecimal?\n",
    "4.\tWrite a Python Program To Find ASCII value of a character?\n",
    "5.\tWrite a Python Program to Make a Simple Calculator with 4 basic mathematical operations?"
   ]
  },
  {
   "cell_type": "markdown",
   "id": "e1a209c8-b302-4bb4-840d-2cada8cce968",
   "metadata": {},
   "source": [
    "# 1.\tWrite a Python Program to Find LCM?"
   ]
  },
  {
   "cell_type": "code",
   "execution_count": null,
   "id": "b7040bc2-1e9e-4b44-bd34-4e3b467f09f5",
   "metadata": {},
   "outputs": [
    {
     "name": "stdin",
     "output_type": "stream",
     "text": [
      "Enter the first number:  12345678\n",
      "Enter the second number:  1234567\n"
     ]
    }
   ],
   "source": [
    "def check_LCM():\n",
    "    try:\n",
    "        first_number = int(input(\"Enter the first number: \"))\n",
    "        second_number = int(input(\"Enter the second number: \"))\n",
    "\n",
    "        maxnum = max(first_number, second_number)\n",
    "\n",
    "        while True:\n",
    "            if maxnum % first_number == 0 and maxnum % second_number == 0:\n",
    "                break\n",
    "            maxnum += 1\n",
    "\n",
    "        return f\"The L.C.M of {first_number} and {second_number} is {maxnum}\"\n",
    "    except ValueError:\n",
    "        return \"Invalid Input, Please enter numerical values.\"\n",
    "\n",
    "result = check_LCM()\n",
    "print(result)"
   ]
  },
  {
   "cell_type": "markdown",
   "id": "7feda042-6782-4282-9736-a9946407884b",
   "metadata": {},
   "source": [
    "# 2.\tWrite a Python Program to Find HCF?"
   ]
  },
  {
   "cell_type": "code",
   "execution_count": 10,
   "id": "dfafa16a-3051-49a5-8829-08df9d4fc350",
   "metadata": {},
   "outputs": [
    {
     "name": "stdin",
     "output_type": "stream",
     "text": [
      "Enter your first number:  4\n",
      "Enter your second number:  44\n"
     ]
    },
    {
     "name": "stdout",
     "output_type": "stream",
     "text": [
      "The H.C.F. of 4 and 44 is 4\n"
     ]
    }
   ],
   "source": [
    "def compute_HCF(a, b):\n",
    "    if a > b:\n",
    "        smaller = b\n",
    "    else:\n",
    "        smaller = a\n",
    "    \n",
    "    for i in range(smaller, 0, -1):\n",
    "        if (a % i == 0) and (b % i == 0):\n",
    "            return i\n",
    "\n",
    "def get_hcf():\n",
    "    try:\n",
    "        number1 = int(input(\"Enter your first number: \"))\n",
    "        number2 = int(input(\"Enter your second number: \"))\n",
    "        hcf = compute_HCF(number1, number2)\n",
    "        print(f\"The H.C.F. of {number1} and {number2} is {hcf}\")\n",
    "    except ValueError:\n",
    "        print(\"Invalid Input, Please enter numerical values.\")\n",
    "\n",
    "get_hcf()\n"
   ]
  },
  {
   "cell_type": "markdown",
   "id": "fa505dad-2d47-4912-ad2d-2a399e9f2752",
   "metadata": {},
   "source": [
    "# 3.\tWrite a Python Program to Convert Decimal to Binary, Octal and Hexadecimal?"
   ]
  },
  {
   "cell_type": "code",
   "execution_count": 15,
   "id": "19abb27c-f479-406e-bf6e-d810447cf3d0",
   "metadata": {},
   "outputs": [
    {
     "name": "stdin",
     "output_type": "stream",
     "text": [
      "Enter the number :  12\n"
     ]
    },
    {
     "name": "stdout",
     "output_type": "stream",
     "text": [
      "The Conversion of Decimal number 12 is : \n",
      "0b1100 in Binary\n",
      "0o14 in Octal\n",
      "0xc in Hexadecimal\n"
     ]
    }
   ],
   "source": [
    "def Check_numbers():\n",
    "    try:\n",
    "        Decimal = int(input(\"Enter the number : \"))\n",
    "        \n",
    "        print(\"The Conversion of Decimal number\",Decimal,\"is : \")\n",
    "        print(bin(Decimal),\"in Binary\")\n",
    "        print(oct(Decimal),\"in Octal\")\n",
    "        print(hex(Decimal),\"in Hexadecimal\")\n",
    "    except ValueError:\n",
    "        print(\"Invalid Input, Please enter numerical value\")\n",
    "\n",
    "Check_numbers()"
   ]
  },
  {
   "cell_type": "markdown",
   "id": "255fc341-60e5-4989-9b7b-c79ed4cd3988",
   "metadata": {},
   "source": [
    "# 4.\tWrite a Python Program To Find ASCII value of a character?"
   ]
  },
  {
   "cell_type": "code",
   "execution_count": 41,
   "id": "60bab712-c16c-4146-b842-8ec71d1dbe37",
   "metadata": {},
   "outputs": [
    {
     "name": "stdin",
     "output_type": "stream",
     "text": [
      "Enter the value:  p\n"
     ]
    },
    {
     "name": "stdout",
     "output_type": "stream",
     "text": [
      "The ASCII Value of p is: {112}\n"
     ]
    }
   ],
   "source": [
    "def check_ascii_value():\n",
    "    try:\n",
    "        char = input(\"Enter the value: \")\n",
    "\n",
    "        if len(char) == 1:\n",
    "            print(f\"The ASCII Value of\", char, \"is:\", {ord(char)})\n",
    "        else:\n",
    "            print(\"Please enter a single character.\")\n",
    "    except ValueError:\n",
    "        print(\"Invalid input. Please enter a valid single character.\")\n",
    "\n",
    "check_ascii_value()\n"
   ]
  },
  {
   "cell_type": "markdown",
   "id": "86627383-1d96-48be-92f3-760d2d92e038",
   "metadata": {},
   "source": [
    "# 5.\tWrite a Python Program to Make a Simple Calculator with 4 basic mathematical operations?"
   ]
  },
  {
   "cell_type": "code",
   "execution_count": 51,
   "id": "9559a2bd-f1b7-46ca-b605-9fb3f09fc06b",
   "metadata": {},
   "outputs": [
    {
     "name": "stdin",
     "output_type": "stream",
     "text": [
      "Enter the first number:  333\n",
      "Enter the second number:  33\n",
      "Enter the operation (+, -, *, /):  -\n"
     ]
    },
    {
     "name": "stdout",
     "output_type": "stream",
     "text": [
      "The result of 333.0 - 33.0 = 300.0.\n"
     ]
    },
    {
     "name": "stdin",
     "output_type": "stream",
     "text": [
      "Do you want to perform another calculation? (yes/no) :  no\n"
     ]
    },
    {
     "name": "stdout",
     "output_type": "stream",
     "text": [
      "Thank you for using the calculator. Goodbye!\n"
     ]
    }
   ],
   "source": [
    "def calculator():\n",
    "    try:\n",
    "        num1 = float(input(\"Enter the first number: \"))\n",
    "        num2 = float(input(\"Enter the second number: \"))\n",
    "        operation = input(\"Enter the operation (+, -, *, /): \")\n",
    "\n",
    "        if operation == '+':\n",
    "            result = num1 + num2\n",
    "        elif operation == '-':\n",
    "            result = num1 - num2\n",
    "        elif operation == '*':\n",
    "            result = num1 * num2\n",
    "        elif operation == '/':\n",
    "            if num2 != 0:\n",
    "                result = num1 / num2\n",
    "            else:\n",
    "                return \"Error: Division by zero is not allowed.\"\n",
    "        else:\n",
    "            return \"Invalid operation. Please enter one of +, -, *, /.\"\n",
    "\n",
    "        return f\"The result of {num1} {operation} {num2} = {result}.\"\n",
    "    except ValueError:\n",
    "        return \"Invalid input. Please enter numerical values.\"\n",
    "\n",
    "while True:\n",
    "    result = calculator()\n",
    "    print(result)\n",
    "    more_calculation = input(\"Do you want to perform another calculation? (yes/no) : \").lower()\n",
    "    if more_calculation != \"yes\":\n",
    "        print(\"Thank you for using the calculator. Goodbye!\")\n",
    "        break"
   ]
  }
 ],
 "metadata": {
  "kernelspec": {
   "display_name": "Python 3 (ipykernel)",
   "language": "python",
   "name": "python3"
  },
  "language_info": {
   "codemirror_mode": {
    "name": "ipython",
    "version": 3
   },
   "file_extension": ".py",
   "mimetype": "text/x-python",
   "name": "python",
   "nbconvert_exporter": "python",
   "pygments_lexer": "ipython3",
   "version": "3.12.7"
  }
 },
 "nbformat": 4,
 "nbformat_minor": 5
}
